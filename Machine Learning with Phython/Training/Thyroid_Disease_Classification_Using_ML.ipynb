{
  "cells": [
    {
      "cell_type": "markdown",
      "metadata": {
        "id": "uVYW8ybZa4Nc"
      },
      "source": [
        "### Reading the data\n",
        "\n",
        "In this step, data is uploaded on the notebook instance. we are gonna access to it and upload it to the Amazon S3."
      ]
    },
    {
      "cell_type": "code",
      "execution_count": null,
      "metadata": {
        "id": "DzPgDmQga4Nd"
      },
      "outputs": [],
      "source": [
        "from sagemaker.sklearn.estimator import SKLearn\n",
        "from sagemaker import get_execution_role\n",
        "import sagemaker\n",
        "\n",
        "prefix = 'Scikit-SVM-pipeline-thyroid-example'\n",
        "\n",
        "bucket = sagemaker.Session().default_bucket()\n",
        "\n",
        "WORK_DIRECTORY = 'thyroid_data'\n",
        "\n",
        "sagemaker_session = sagemaker.Session()\n",
        "\n",
        "train_input = sagemaker_session.upload_data(\n",
        "    path='{}/{}'.format(WORK_DIRECTORY, 'train.csv'), \n",
        "    bucket=bucket,\n",
        "    key_prefix='{}/{}'.format(prefix, 'train'))"
      ]
    },
    {
      "cell_type": "markdown",
      "metadata": {
        "id": "MiNUpqYKa4Nf"
      },
      "source": [
        "- Creating StandardScalar model\n",
        "\n",
        "In this step, the path to the script is defined and pass it as an entry point to the SKLearn. After configuraing the model we fit it with our input data"
      ]
    },
    {
      "cell_type": "code",
      "execution_count": null,
      "metadata": {
        "id": "uC9JqeGxa4Ng",
        "outputId": "19b36d9b-a64e-48a3-c78d-06dc0247a937"
      },
      "outputs": [
        {
          "name": "stdout",
          "output_type": "stream",
          "text": [
            "2019-11-30 19:56:43 Starting - Starting the training job...\n",
            "2019-11-30 19:56:44 Starting - Launching requested ML instances...\n",
            "2019-11-30 19:57:41 Starting - Preparing the instances for training......\n",
            "2019-11-30 19:58:25 Downloading - Downloading input data...\n",
            "2019-11-30 19:59:14 Training - Training image download completed. Training in progress.\n",
            "2019-11-30 19:59:14 Uploading - Uploading generated training model\n",
            "2019-11-30 19:59:14 Completed - Training job completed\n",
            "\u001b[31m2019-11-30 19:59:04,027 sagemaker-containers INFO     Imported framework sagemaker_sklearn_container.training\u001b[0m\n",
            "\u001b[31m2019-11-30 19:59:04,030 sagemaker-containers INFO     No GPUs detected (normal if no gpus installed)\u001b[0m\n",
            "\u001b[31m2019-11-30 19:59:04,039 sagemaker_sklearn_container.training INFO     Invoking user training script.\u001b[0m\n",
            "\u001b[31m2019-11-30 19:59:04,284 sagemaker-containers INFO     Module sklearn_thyroid_featurizer does not provide a setup.py. \u001b[0m\n",
            "\u001b[31mGenerating setup.py\u001b[0m\n",
            "\u001b[31m2019-11-30 19:59:04,284 sagemaker-containers INFO     Generating setup.cfg\u001b[0m\n",
            "\u001b[31m2019-11-30 19:59:04,284 sagemaker-containers INFO     Generating MANIFEST.in\u001b[0m\n",
            "\u001b[31m2019-11-30 19:59:04,284 sagemaker-containers INFO     Installing module with the following command:\u001b[0m\n",
            "\u001b[31m/miniconda3/bin/python -m pip install . \u001b[0m\n",
            "\u001b[31mProcessing /opt/ml/code\u001b[0m\n",
            "\u001b[31mBuilding wheels for collected packages: sklearn-thyroid-featurizer\n",
            "  Building wheel for sklearn-thyroid-featurizer (setup.py): started\n",
            "  Building wheel for sklearn-thyroid-featurizer (setup.py): finished with status 'done'\n",
            "  Created wheel for sklearn-thyroid-featurizer: filename=sklearn_thyroid_featurizer-1.0.0-py2.py3-none-any.whl size=9070 sha256=e22be41cb38010ef73907264421ffd00221d98887e43ff4541834b8f8b315edc\n",
            "  Stored in directory: /tmp/pip-ephem-wheel-cache-rxnrio48/wheels/35/24/16/37574d11bf9bde50616c67372a334f94fa8356bc7164af8ca3\u001b[0m\n",
            "\u001b[31mSuccessfully built sklearn-thyroid-featurizer\u001b[0m\n",
            "\u001b[31mInstalling collected packages: sklearn-thyroid-featurizer\u001b[0m\n",
            "\u001b[31mSuccessfully installed sklearn-thyroid-featurizer-1.0.0\u001b[0m\n",
            "\u001b[31m2019-11-30 19:59:05,469 sagemaker-containers INFO     No GPUs detected (normal if no gpus installed)\u001b[0m\n",
            "\u001b[31m2019-11-30 19:59:05,479 sagemaker-containers INFO     Invoking user script\n",
            "\u001b[0m\n",
            "\u001b[31mTraining Env:\n",
            "\u001b[0m\n",
            "\u001b[31m{\n",
            "    \"additional_framework_parameters\": {},\n",
            "    \"channel_input_dirs\": {\n",
            "        \"train\": \"/opt/ml/input/data/train\"\n",
            "    },\n",
            "    \"current_host\": \"algo-1\",\n",
            "    \"framework_module\": \"sagemaker_sklearn_container.training:main\",\n",
            "    \"hosts\": [\n",
            "        \"algo-1\"\n",
            "    ],\n",
            "    \"hyperparameters\": {},\n",
            "    \"input_config_dir\": \"/opt/ml/input/config\",\n",
            "    \"input_data_config\": {\n",
            "        \"train\": {\n",
            "            \"TrainingInputMode\": \"File\",\n",
            "            \"S3DistributionType\": \"FullyReplicated\",\n",
            "            \"RecordWrapperType\": \"None\"\n",
            "        }\n",
            "    },\n",
            "    \"input_dir\": \"/opt/ml/input\",\n",
            "    \"is_master\": true,\n",
            "    \"job_name\": \"sagemaker-scikit-learn-2019-11-30-19-56-43-384\",\n",
            "    \"log_level\": 20,\n",
            "    \"master_hostname\": \"algo-1\",\n",
            "    \"model_dir\": \"/opt/ml/model\",\n",
            "    \"module_dir\": \"s3://sagemaker-us-east-2-351142206906/sagemaker-scikit-learn-2019-11-30-19-56-43-384/source/sourcedir.tar.gz\",\n",
            "    \"module_name\": \"sklearn_thyroid_featurizer\",\n",
            "    \"network_interface_name\": \"eth0\",\n",
            "    \"num_cpus\": 4,\n",
            "    \"num_gpus\": 0,\n",
            "    \"output_data_dir\": \"/opt/ml/output/data\",\n",
            "    \"output_dir\": \"/opt/ml/output\",\n",
            "    \"output_intermediate_dir\": \"/opt/ml/output/intermediate\",\n",
            "    \"resource_config\": {\n",
            "        \"current_host\": \"algo-1\",\n",
            "        \"hosts\": [\n",
            "            \"algo-1\"\n",
            "        ],\n",
            "        \"network_interface_name\": \"eth0\"\n",
            "    },\n",
            "    \"user_entry_point\": \"sklearn_thyroid_featurizer.py\"\u001b[0m\n",
            "\u001b[31m}\n",
            "\u001b[0m\n",
            "\u001b[31mEnvironment variables:\n",
            "\u001b[0m\n",
            "\u001b[31mSM_HOSTS=[\"algo-1\"]\u001b[0m\n",
            "\u001b[31mSM_NETWORK_INTERFACE_NAME=eth0\u001b[0m\n",
            "\u001b[31mSM_HPS={}\u001b[0m\n",
            "\u001b[31mSM_USER_ENTRY_POINT=sklearn_thyroid_featurizer.py\u001b[0m\n",
            "\u001b[31mSM_FRAMEWORK_PARAMS={}\u001b[0m\n",
            "\u001b[31mSM_RESOURCE_CONFIG={\"current_host\":\"algo-1\",\"hosts\":[\"algo-1\"],\"network_interface_name\":\"eth0\"}\u001b[0m\n",
            "\u001b[31mSM_INPUT_DATA_CONFIG={\"train\":{\"RecordWrapperType\":\"None\",\"S3DistributionType\":\"FullyReplicated\",\"TrainingInputMode\":\"File\"}}\u001b[0m\n",
            "\u001b[31mSM_OUTPUT_DATA_DIR=/opt/ml/output/data\u001b[0m\n",
            "\u001b[31mSM_CHANNELS=[\"train\"]\u001b[0m\n",
            "\u001b[31mSM_CURRENT_HOST=algo-1\u001b[0m\n",
            "\u001b[31mSM_MODULE_NAME=sklearn_thyroid_featurizer\u001b[0m\n",
            "\u001b[31mSM_LOG_LEVEL=20\u001b[0m\n",
            "\u001b[31mSM_FRAMEWORK_MODULE=sagemaker_sklearn_container.training:main\u001b[0m\n",
            "\u001b[31mSM_INPUT_DIR=/opt/ml/input\u001b[0m\n",
            "\u001b[31mSM_INPUT_CONFIG_DIR=/opt/ml/input/config\u001b[0m\n",
            "\u001b[31mSM_OUTPUT_DIR=/opt/ml/output\u001b[0m\n",
            "\u001b[31mSM_NUM_CPUS=4\u001b[0m\n",
            "\u001b[31mSM_NUM_GPUS=0\u001b[0m\n",
            "\u001b[31mSM_MODEL_DIR=/opt/ml/model\u001b[0m\n",
            "\u001b[31mSM_MODULE_DIR=s3://sagemaker-us-east-2-351142206906/sagemaker-scikit-learn-2019-11-30-19-56-43-384/source/sourcedir.tar.gz\u001b[0m\n",
            "\u001b[31mSM_TRAINING_ENV={\"additional_framework_parameters\":{},\"channel_input_dirs\":{\"train\":\"/opt/ml/input/data/train\"},\"current_host\":\"algo-1\",\"framework_module\":\"sagemaker_sklearn_container.training:main\",\"hosts\":[\"algo-1\"],\"hyperparameters\":{},\"input_config_dir\":\"/opt/ml/input/config\",\"input_data_config\":{\"train\":{\"RecordWrapperType\":\"None\",\"S3DistributionType\":\"FullyReplicated\",\"TrainingInputMode\":\"File\"}},\"input_dir\":\"/opt/ml/input\",\"is_master\":true,\"job_name\":\"sagemaker-scikit-learn-2019-11-30-19-56-43-384\",\"log_level\":20,\"master_hostname\":\"algo-1\",\"model_dir\":\"/opt/ml/model\",\"module_dir\":\"s3://sagemaker-us-east-2-351142206906/sagemaker-scikit-learn-2019-11-30-19-56-43-384/source/sourcedir.tar.gz\",\"module_name\":\"sklearn_thyroid_featurizer\",\"network_interface_name\":\"eth0\",\"num_cpus\":4,\"num_gpus\":0,\"output_data_dir\":\"/opt/ml/output/data\",\"output_dir\":\"/opt/ml/output\",\"output_intermediate_dir\":\"/opt/ml/output/intermediate\",\"resource_config\":{\"current_host\":\"algo-1\",\"hosts\":[\"algo-1\"],\"network_interface_name\":\"eth0\"},\"user_entry_point\":\"sklearn_thyroid_featurizer.py\"}\u001b[0m\n",
            "\u001b[31mSM_USER_ARGS=[]\u001b[0m\n",
            "\u001b[31mSM_OUTPUT_INTERMEDIATE_DIR=/opt/ml/output/intermediate\u001b[0m\n",
            "\u001b[31mSM_CHANNEL_TRAIN=/opt/ml/input/data/train\u001b[0m\n",
            "\u001b[31mPYTHONPATH=/miniconda3/bin:/miniconda3/lib/python37.zip:/miniconda3/lib/python3.7:/miniconda3/lib/python3.7/lib-dynload:/miniconda3/lib/python3.7/site-packages\n",
            "\u001b[0m\n",
            "\u001b[31mInvoking script with the following command:\n",
            "\u001b[0m\n",
            "\u001b[31m/miniconda3/bin/python -m sklearn_thyroid_featurizer\n",
            "\n",
            "\u001b[0m\n",
            "\u001b[31m/miniconda3/lib/python3.7/site-packages/sklearn/externals/joblib/externals/cloudpickle/cloudpickle.py:47: DeprecationWarning: the imp module is deprecated in favour of importlib; see the module's documentation for alternative uses\n",
            "  import imp\u001b[0m\n",
            "\u001b[31m/miniconda3/lib/python3.7/site-packages/sklearn/preprocessing/data.py:617: DataConversionWarning: Data with input dtype float32 were all converted to float64 by StandardScaler.\n",
            "  return self.partial_fit(X, y)\u001b[0m\n",
            "\u001b[31m/miniconda3/lib/python3.7/site-packages/sklearn/base.py:462: DataConversionWarning: Data with input dtype float32 were all converted to float64 by StandardScaler.\n",
            "  return self.fit(X, **fit_params).transform(X)\u001b[0m\n",
            "\u001b[31msaved model!\u001b[0m\n",
            "\u001b[31m2019-11-30 19:59:06,722 sagemaker-containers INFO     Reporting training SUCCESS\u001b[0m\n",
            "Training seconds: 49\n",
            "Billable seconds: 49\n"
          ]
        }
      ],
      "source": [
        "sagemaker_session = sagemaker.Session()\n",
        "\n",
        "script_path = 'sklearn_thyroid_featurizer.py'\n",
        "\n",
        "sklearn_preprocessor = SKLearn(\n",
        "    entry_point=script_path,\n",
        "    role=get_execution_role(),\n",
        "    train_instance_type=\"ml.m5.xlarge\",\n",
        "    sagemaker_session=sagemaker_session)\n",
        "sklearn_preprocessor.fit({'train': train_input})"
      ]
    },
    {
      "cell_type": "markdown",
      "metadata": {
        "id": "qbg4KWKsa4Ni"
      },
      "source": [
        "### Creating the SVM model"
      ]
    },
    {
      "cell_type": "code",
      "execution_count": null,
      "metadata": {
        "id": "brqwllnna4Nj",
        "outputId": "f935cc79-0ce4-4d52-cd4e-6ba5e660b416"
      },
      "outputs": [
        {
          "name": "stdout",
          "output_type": "stream",
          "text": [
            "2019-11-30 19:44:17 Starting - Starting the training job...\n",
            "2019-11-30 19:44:18 Starting - Launching requested ML instances...\n",
            "2019-11-30 19:45:12 Starting - Preparing the instances for training......\n",
            "2019-11-30 19:46:08 Downloading - Downloading input data\n",
            "2019-11-30 19:46:08 Training - Downloading the training image..\u001b[31m2019-11-30 19:46:21,723 sagemaker-containers INFO     Imported framework sagemaker_sklearn_container.training\u001b[0m\n",
            "\u001b[31m2019-11-30 19:46:21,727 sagemaker-containers INFO     No GPUs detected (normal if no gpus installed)\u001b[0m\n",
            "\u001b[31m2019-11-30 19:46:21,740 sagemaker_sklearn_container.training INFO     Invoking user training script.\u001b[0m\n",
            "\u001b[31m2019-11-30 19:46:21,953 sagemaker-containers INFO     Module sklearn_thyroid_SVM does not provide a setup.py. \u001b[0m\n",
            "\u001b[31mGenerating setup.py\u001b[0m\n",
            "\u001b[31m2019-11-30 19:46:21,953 sagemaker-containers INFO     Generating setup.cfg\u001b[0m\n",
            "\u001b[31m2019-11-30 19:46:21,953 sagemaker-containers INFO     Generating MANIFEST.in\u001b[0m\n",
            "\u001b[31m2019-11-30 19:46:21,953 sagemaker-containers INFO     Installing module with the following command:\u001b[0m\n",
            "\u001b[31m/miniconda3/bin/python -m pip install . \u001b[0m\n",
            "\u001b[31mProcessing /opt/ml/code\u001b[0m\n",
            "\u001b[31mBuilding wheels for collected packages: sklearn-thyroid-SVM\n",
            "  Building wheel for sklearn-thyroid-SVM (setup.py): started\n",
            "  Building wheel for sklearn-thyroid-SVM (setup.py): finished with status 'done'\n",
            "  Created wheel for sklearn-thyroid-SVM: filename=sklearn_thyroid_SVM-1.0.0-py2.py3-none-any.whl size=8822 sha256=3011a8944118543aa0231000b20e5ddda5c53211d522fef391aefb10440ba78a\n",
            "  Stored in directory: /tmp/pip-ephem-wheel-cache-p3qjmue6/wheels/35/24/16/37574d11bf9bde50616c67372a334f94fa8356bc7164af8ca3\u001b[0m\n",
            "\u001b[31mSuccessfully built sklearn-thyroid-SVM\u001b[0m\n",
            "\u001b[31mInstalling collected packages: sklearn-thyroid-SVM\u001b[0m\n",
            "\u001b[31mSuccessfully installed sklearn-thyroid-SVM-1.0.0\u001b[0m\n",
            "\u001b[31m2019-11-30 19:46:23,141 sagemaker-containers INFO     No GPUs detected (normal if no gpus installed)\u001b[0m\n",
            "\u001b[31m2019-11-30 19:46:23,151 sagemaker-containers INFO     Invoking user script\n",
            "\u001b[0m\n",
            "\u001b[31mTraining Env:\n",
            "\u001b[0m\n",
            "\u001b[31m{\n",
            "    \"additional_framework_parameters\": {},\n",
            "    \"channel_input_dirs\": {\n",
            "        \"train\": \"/opt/ml/input/data/train\"\n",
            "    },\n",
            "    \"current_host\": \"algo-1\",\n",
            "    \"framework_module\": \"sagemaker_sklearn_container.training:main\",\n",
            "    \"hosts\": [\n",
            "        \"algo-1\"\n",
            "    ],\n",
            "    \"hyperparameters\": {},\n",
            "    \"input_config_dir\": \"/opt/ml/input/config\",\n",
            "    \"input_data_config\": {\n",
            "        \"train\": {\n",
            "            \"TrainingInputMode\": \"File\",\n",
            "            \"S3DistributionType\": \"FullyReplicated\",\n",
            "            \"RecordWrapperType\": \"None\"\n",
            "        }\n",
            "    },\n",
            "    \"input_dir\": \"/opt/ml/input\",\n",
            "    \"is_master\": true,\n",
            "    \"job_name\": \"sagemaker-scikit-learn-2019-11-30-19-44-16-807\",\n",
            "    \"log_level\": 20,\n",
            "    \"master_hostname\": \"algo-1\",\n",
            "    \"model_dir\": \"/opt/ml/model\",\n",
            "    \"module_dir\": \"s3://sagemaker-us-east-2-351142206906/sagemaker-scikit-learn-2019-11-30-19-44-16-807/source/sourcedir.tar.gz\",\n",
            "    \"module_name\": \"sklearn_thyroid_SVM\",\n",
            "    \"network_interface_name\": \"eth0\",\n",
            "    \"num_cpus\": 4,\n",
            "    \"num_gpus\": 0,\n",
            "    \"output_data_dir\": \"/opt/ml/output/data\",\n",
            "    \"output_dir\": \"/opt/ml/output\",\n",
            "    \"output_intermediate_dir\": \"/opt/ml/output/intermediate\",\n",
            "    \"resource_config\": {\n",
            "        \"current_host\": \"algo-1\",\n",
            "        \"hosts\": [\n",
            "            \"algo-1\"\n",
            "        ],\n",
            "        \"network_interface_name\": \"eth0\"\n",
            "    },\n",
            "    \"user_entry_point\": \"sklearn_thyroid_SVM.py\"\u001b[0m\n",
            "\u001b[31m}\n",
            "\u001b[0m\n",
            "\u001b[31mEnvironment variables:\n",
            "\u001b[0m\n",
            "\u001b[31mSM_HOSTS=[\"algo-1\"]\u001b[0m\n",
            "\u001b[31mSM_NETWORK_INTERFACE_NAME=eth0\u001b[0m\n",
            "\u001b[31mSM_HPS={}\u001b[0m\n",
            "\u001b[31mSM_USER_ENTRY_POINT=sklearn_thyroid_SVM.py\u001b[0m\n",
            "\u001b[31mSM_FRAMEWORK_PARAMS={}\u001b[0m\n",
            "\u001b[31mSM_RESOURCE_CONFIG={\"current_host\":\"algo-1\",\"hosts\":[\"algo-1\"],\"network_interface_name\":\"eth0\"}\u001b[0m\n",
            "\u001b[31mSM_INPUT_DATA_CONFIG={\"train\":{\"RecordWrapperType\":\"None\",\"S3DistributionType\":\"FullyReplicated\",\"TrainingInputMode\":\"File\"}}\u001b[0m\n",
            "\u001b[31mSM_OUTPUT_DATA_DIR=/opt/ml/output/data\u001b[0m\n",
            "\u001b[31mSM_CHANNELS=[\"train\"]\u001b[0m\n",
            "\u001b[31mSM_CURRENT_HOST=algo-1\u001b[0m\n",
            "\u001b[31mSM_MODULE_NAME=sklearn_thyroid_SVM\u001b[0m\n",
            "\u001b[31mSM_LOG_LEVEL=20\u001b[0m\n",
            "\u001b[31mSM_FRAMEWORK_MODULE=sagemaker_sklearn_container.training:main\u001b[0m\n",
            "\u001b[31mSM_INPUT_DIR=/opt/ml/input\u001b[0m\n",
            "\u001b[31mSM_INPUT_CONFIG_DIR=/opt/ml/input/config\u001b[0m\n",
            "\u001b[31mSM_OUTPUT_DIR=/opt/ml/output\u001b[0m\n",
            "\u001b[31mSM_NUM_CPUS=4\u001b[0m\n",
            "\u001b[31mSM_NUM_GPUS=0\u001b[0m\n",
            "\u001b[31mSM_MODEL_DIR=/opt/ml/model\u001b[0m\n",
            "\u001b[31mSM_MODULE_DIR=s3://sagemaker-us-east-2-351142206906/sagemaker-scikit-learn-2019-11-30-19-44-16-807/source/sourcedir.tar.gz\u001b[0m\n",
            "\u001b[31mSM_TRAINING_ENV={\"additional_framework_parameters\":{},\"channel_input_dirs\":{\"train\":\"/opt/ml/input/data/train\"},\"current_host\":\"algo-1\",\"framework_module\":\"sagemaker_sklearn_container.training:main\",\"hosts\":[\"algo-1\"],\"hyperparameters\":{},\"input_config_dir\":\"/opt/ml/input/config\",\"input_data_config\":{\"train\":{\"RecordWrapperType\":\"None\",\"S3DistributionType\":\"FullyReplicated\",\"TrainingInputMode\":\"File\"}},\"input_dir\":\"/opt/ml/input\",\"is_master\":true,\"job_name\":\"sagemaker-scikit-learn-2019-11-30-19-44-16-807\",\"log_level\":20,\"master_hostname\":\"algo-1\",\"model_dir\":\"/opt/ml/model\",\"module_dir\":\"s3://sagemaker-us-east-2-351142206906/sagemaker-scikit-learn-2019-11-30-19-44-16-807/source/sourcedir.tar.gz\",\"module_name\":\"sklearn_thyroid_SVM\",\"network_interface_name\":\"eth0\",\"num_cpus\":4,\"num_gpus\":0,\"output_data_dir\":\"/opt/ml/output/data\",\"output_dir\":\"/opt/ml/output\",\"output_intermediate_dir\":\"/opt/ml/output/intermediate\",\"resource_config\":{\"current_host\":\"algo-1\",\"hosts\":[\"algo-1\"],\"network_interface_name\":\"eth0\"},\"user_entry_point\":\"sklearn_thyroid_SVM.py\"}\u001b[0m\n",
            "\u001b[31mSM_USER_ARGS=[]\u001b[0m\n",
            "\u001b[31mSM_OUTPUT_INTERMEDIATE_DIR=/opt/ml/output/intermediate\u001b[0m\n",
            "\u001b[31mSM_CHANNEL_TRAIN=/opt/ml/input/data/train\u001b[0m\n",
            "\u001b[31mPYTHONPATH=/miniconda3/bin:/miniconda3/lib/python37.zip:/miniconda3/lib/python3.7:/miniconda3/lib/python3.7/lib-dynload:/miniconda3/lib/python3.7/site-packages\n",
            "\u001b[0m\n",
            "\u001b[31mInvoking script with the following command:\n",
            "\u001b[0m\n",
            "\u001b[31m/miniconda3/bin/python -m sklearn_thyroid_SVM\n",
            "\n",
            "\u001b[0m\n",
            "\u001b[31m/miniconda3/lib/python3.7/site-packages/sklearn/externals/joblib/externals/cloudpickle/cloudpickle.py:47: DeprecationWarning: the imp module is deprecated in favour of importlib; see the module's documentation for alternative uses\n",
            "  import imp\u001b[0m\n",
            "\u001b[31m/miniconda3/lib/python3.7/site-packages/sklearn/preprocessing/data.py:617: DataConversionWarning: Data with input dtype float32 were all converted to float64 by StandardScaler.\n",
            "  return self.partial_fit(X, y)\u001b[0m\n",
            "\u001b[31m/opt/ml/code/sklearn_thyroid_SVM.py:125: DataConversionWarning: Data with input dtype float32 were all converted to float64 by StandardScaler.\n",
            "  X = scaler.transform(features)\u001b[0m\n",
            "\u001b[31msaved model!\u001b[0m\n",
            "\u001b[31m2019-11-30 19:46:24,465 sagemaker-containers INFO     Reporting training SUCCESS\u001b[0m\n",
            "\n",
            "2019-11-30 19:46:32 Uploading - Uploading generated training model\n",
            "2019-11-30 19:46:32 Completed - Training job completed\n",
            "Training seconds: 38\n",
            "Billable seconds: 38\n"
          ]
        }
      ],
      "source": [
        "sagemaker_session = sagemaker.Session()\n",
        "\n",
        "script_path = 'sklearn_thyroid_SVM.py'\n",
        "\n",
        "sklearn_SVM_model = SKLearn(\n",
        "    entry_point=script_path,\n",
        "    role=get_execution_role(),\n",
        "    train_instance_type=\"ml.m5.xlarge\",\n",
        "    sagemaker_session=sagemaker_session)\n",
        "\n",
        "sklearn_SVM_model.fit({'train': train_input})"
      ]
    },
    {
      "cell_type": "markdown",
      "metadata": {
        "id": "NrWkTFpSa4Nl"
      },
      "source": [
        "### Creatimg the pipline and deploy it to endpiont"
      ]
    },
    {
      "cell_type": "code",
      "execution_count": null,
      "metadata": {
        "id": "T64vcpX8a4Nl",
        "outputId": "055c37d2-d5c6-4fa7-87bd-0bfd21c70534"
      },
      "outputs": [
        {
          "name": "stdout",
          "output_type": "stream",
          "text": [
            "--------------------------------------------------------------------------------------!"
          ]
        }
      ],
      "source": [
        "from sagemaker.model import Model\n",
        "from sagemaker.pipeline import PipelineModel\n",
        "\n",
        "scikit_learn_inferencee_model = sklearn_preprocessor.create_model()\n",
        "scikit_learn_SVM_model = sklearn_SVM_model.create_model()\n",
        "\n",
        "model_name = 'inference-pipeline-SVM'\n",
        "sm_model = PipelineModel(\n",
        "    name=model_name, \n",
        "    role=get_execution_role(), \n",
        "    models=[\n",
        "        scikit_learn_inferencee_model, \n",
        "        scikit_learn_SVM_model])\n",
        "\n",
        "sm_model.deploy(initial_instance_count=1, instance_type='ml.m4.xlarge', endpoint_name='thyroid-splitted-final')"
      ]
    },
    {
      "cell_type": "markdown",
      "metadata": {
        "id": "8RFfQNcha4Nn"
      },
      "source": [
        "# 2. Test the model"
      ]
    },
    {
      "cell_type": "markdown",
      "metadata": {
        "id": "42kKRSeoa4Nn"
      },
      "source": [
        "We deployed the test on the test dataset. The dataset is splitted and 70% is used for the training the model and 30% is used for the test model."
      ]
    },
    {
      "cell_type": "code",
      "execution_count": null,
      "metadata": {
        "id": "hKjQyXIta4No",
        "outputId": "2e744e8e-4297-4fbe-c34e-ea7c40f46062"
      },
      "outputs": [
        {
          "name": "stdout",
          "output_type": "stream",
          "text": [
            "accurecy: 0.9629629629629629\n",
            "precison: 0.8395061728395061\n",
            "recall: 0.7555555555555555\n",
            "f1: 0.7953216374269005\n"
          ]
        }
      ],
      "source": [
        "import io\n",
        "import pandas as pd\n",
        "import json\n",
        "import numpy as np\n",
        "import boto3\n",
        "from sklearn.metrics import make_scorer, accuracy_score, precision_score, recall_score, f1_score\n",
        "from sklearn import metrics\n",
        "\n",
        "data = pd.read_csv('./thyroid_data/test.csv')\n",
        "\n",
        "runtime= boto3.client('runtime.sagemaker')\n",
        "\n",
        "features = data.iloc[:, 0:-1]\n",
        "target = data.iloc[:, -1]\n",
        "\n",
        "X= np.array(features).astype('float32')\n",
        "Y= np.array(target).astype('float32')\n",
        "\n",
        "temp=[]\n",
        "\n",
        "for x in X:\n",
        "    response = runtime.invoke_endpoint(EndpointName='thyroid-splitted-final',\n",
        "                                   ContentType='text/csv',\n",
        "                                   Body=[\",\".join(x.astype(str))][0])\n",
        "\n",
        "    result = json.loads(response['Body'].read().decode())\n",
        "    test_pred = result['instances'][0]['features']\n",
        "    temp.append(test_pred)\n",
        "\n",
        "Y_predict =pd.Series(np.array(temp))\n",
        "\n",
        "precison = precision_score(Y, Y_predict)\n",
        "recall = recall_score(Y, Y_predict)\n",
        "f1 = f1_score(Y, Y_predict)\n",
        "accuracy = metrics.accuracy_score(Y, Y_predict)\n",
        "\n",
        "print(\"accurecy: \"+ str(accuracy))\n",
        "print(\"precison: \"+str(precison))\n",
        "print(\"recall: \"+ str(recall))\n",
        "print(\"f1: \"+str(f1))"
      ]
    }
  ],
  "metadata": {
    "kernelspec": {
      "display_name": "conda_python3",
      "language": "python",
      "name": "conda_python3"
    },
    "language_info": {
      "codemirror_mode": {
        "name": "ipython",
        "version": 3
      },
      "file_extension": ".py",
      "mimetype": "text/x-python",
      "name": "python",
      "nbconvert_exporter": "python",
      "pygments_lexer": "ipython3",
      "version": "3.6.5"
    },
    "colab": {
      "provenance": []
    }
  },
  "nbformat": 4,
  "nbformat_minor": 0
}